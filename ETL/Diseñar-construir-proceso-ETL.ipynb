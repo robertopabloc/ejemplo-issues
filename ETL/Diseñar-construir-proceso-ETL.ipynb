{
 "cells": [
  {
   "cell_type": "markdown",
   "metadata": {},
   "source": [
    "# Tarea: Diseñar y construir un proceso ETL (T)"
   ]
  },
  {
   "cell_type": "markdown",
   "metadata": {},
   "source": [
    "## 1. Módelo y diseño ETL\n",
    "[link módelo y diseño ](https://github.com/MISW-4402-Analisis-y-Modelado-de-datos/Estudiante_42/blob/main/ETL/README.md)"
   ]
  },
  {
   "cell_type": "markdown",
   "metadata": {},
   "source": [
    "## 2. Implementación"
   ]
  },
  {
   "cell_type": "code",
   "execution_count": 1,
   "metadata": {},
   "outputs": [],
   "source": [
    "# Configuración servidor base de datos transaccional\n",
    "# Recuerde usar Estudiante_i como usuario y la contraseña asigana en el excel de conexión a maquina virtual como contraseña\n",
    "db_user = ''\n",
    "db_psswd = ''\n",
    "source_db_connection_string = 'jdbc:mysql://157.253.236.116:8080/WWImportersTransactional'\n",
    "\n",
    "dest_db_connection_string = 'jdbc:mysql://157.253.236.116:8080/Estudiante_42'\n",
    "\n",
    "# Driver de conexion\n",
    "path_jar_driver = 'C:\\Program Files (x86)\\MySQL\\Connector J 8.0\\mysql-connector-java-8.0.28.jar'"
   ]
  },
  {
   "cell_type": "code",
   "execution_count": 2,
   "metadata": {},
   "outputs": [
    {
     "name": "stderr",
     "output_type": "stream",
     "text": [
      "C:\\Users\\estudiante\\anaconda3\\envs\\Tutoriales\\lib\\site-packages\\tqdm\\auto.py:22: TqdmWarning: IProgress not found. Please update jupyter and ipywidgets. See https://ipywidgets.readthedocs.io/en/stable/user_install.html\n",
      "  from .autonotebook import tqdm as notebook_tqdm\n"
     ]
    }
   ],
   "source": [
    "from pyspark.sql import SparkSession\n",
    "from pyspark.sql import functions\n",
    "from pyspark.sql.types import StructType\n",
    "from pyspark import SparkContext, SparkConf, SQLContext\n",
    "from pyspark.sql.types import FloatType, StringType, IntegerType, DateType\n",
    "from pyspark.sql.functions import udf, col, length, isnan, when, count, year, date_format, to_date, unix_timestamp, from_unixtime\n",
    "import pyspark.sql.functions as f\n",
    "import os \n",
    "from datetime import datetime\n",
    "from pyspark.sql import types as t\n",
    "from pandas_profiling import ProfileReport\n",
    "#import matplotlib.pyplot as plt\n",
    "import numpy as np"
   ]
  },
  {
   "cell_type": "code",
   "execution_count": 3,
   "metadata": {},
   "outputs": [
    {
     "name": "stderr",
     "output_type": "stream",
     "text": [
      "C:\\Users\\estudiante\\anaconda3\\envs\\Tutoriales\\lib\\site-packages\\pyspark\\sql\\context.py:79: FutureWarning: Deprecated in 3.0.0. Use SparkSession.builder.getOrCreate() instead.\n",
      "  FutureWarning\n"
     ]
    }
   ],
   "source": [
    "#Configuración de la sesión\n",
    "conf=SparkConf() \\\n",
    "    .set('spark.driver.extraClassPath', path_jar_driver)\n",
    "\n",
    "spark_context = SparkContext(conf=conf)\n",
    "sql_context = SQLContext(spark_context)\n",
    "spark = sql_context.sparkSession"
   ]
  },
  {
   "cell_type": "markdown",
   "metadata": {},
   "source": [
    "### Conexión y carga de datos"
   ]
  },
  {
   "cell_type": "markdown",
   "metadata": {},
   "source": [
    "Se define la función para conexión y cargue de dataframes desde la base de datos origen y luego la función para guardar un dataframe en una tabla de la base de datos destino."
   ]
  },
  {
   "cell_type": "code",
   "execution_count": 4,
   "metadata": {},
   "outputs": [],
   "source": [
    "def obtener_dataframe_de_bd(db_connection_string, sql, db_user, db_psswd):\n",
    "    df_bd = spark.read.format('jdbc')\\\n",
    "        .option('url', db_connection_string) \\\n",
    "        .option('dbtable', sql) \\\n",
    "        .option('user', db_user) \\\n",
    "        .option('password', db_psswd) \\\n",
    "        .option('driver', 'com.mysql.cj.jdbc.Driver') \\\n",
    "        .load()\n",
    "    return df_bd\n",
    "\n",
    "def guardar_db(db_connection_string, df, tabla, db_user, db_psswd):\n",
    "    df.select('*').write.format('jdbc') \\\n",
    "      .mode('append') \\\n",
    "      .option('url', db_connection_string) \\\n",
    "      .option('dbtable', tabla) \\\n",
    "      .option('user', db_user) \\\n",
    "      .option('password', db_psswd) \\\n",
    "      .option('driver', 'com.mysql.cj.jdbc.Driver') \\\n",
    "      .save()"
   ]
  },
  {
   "cell_type": "markdown",
   "metadata": {},
   "source": [
    "### PROVEEDORES\n",
    "Empezamos con  la dimensión <i>Proveedor</i>, Su fuente de datos es una combinación de las tablas transaccionales <i>Proveedores</i> y <i>CategoriasProveedores</i>."
   ]
  },
  {
   "cell_type": "markdown",
   "metadata": {},
   "source": [
    "#### Extracción\n",
    "A continuación, nos conectamos a la base de datos y extraemos la información deseada por medio de SQL, cargandola en un DataFrame PySpark."
   ]
  },
  {
   "cell_type": "code",
   "execution_count": 5,
   "metadata": {},
   "outputs": [
    {
     "name": "stdout",
     "output_type": "stream",
     "text": [
      "+--------------+--------------------+--------------------+------------------+--------------+-------------+\n",
      "|ID_Proveedor_T|              Nombre|CategoriaProveedorID|Contacto_principal|Dias_pago_Temp|Codigo_postal|\n",
      "+--------------+--------------------+--------------------+------------------+--------------+-------------+\n",
      "|             4|      Fabrikam, Inc.|                   4|                27|            30|        40351|\n",
      "|             5|Graphic Design In...|                   2|                29|            14|        64847|\n",
      "|             7|       Litware, Inc.|                   5|                33|            30|        95245|\n",
      "|             9|      Nod Publishers|                   2|                37|             7|        27906|\n",
      "|            10|Northwind Electri...|                   3|                39|            30|         7860|\n",
      "+--------------+--------------------+--------------------+------------------+--------------+-------------+\n",
      "only showing top 5 rows\n",
      "\n"
     ]
    }
   ],
   "source": [
    "sql_proveedores = '''(SELECT ProveedorID AS ID_Proveedor_T, NombreProveedor AS Nombre, CategoriaProveedorID , PersonaContactoPrincipalID AS Contacto_principal, DiasPago AS Dias_pago_Temp, CodigoPostal AS Codigo_postal\n",
    "FROM  WWImportersTransactional.Proveedores p) AS proveedor_Temp'''\n",
    "proveedores = obtener_dataframe_de_bd(source_db_connection_string, sql_proveedores, db_user, db_psswd)\n",
    "proveedores.show(5)"
   ]
  },
  {
   "cell_type": "code",
   "execution_count": 6,
   "metadata": {},
   "outputs": [
    {
     "name": "stdout",
     "output_type": "stream",
     "text": [
      "+--------------------+-------------------+\n",
      "|CategoriaProveedorID|          Categoria|\n",
      "+--------------------+-------------------+\n",
      "|                   1|     otro mayorista|\n",
      "|                   2|productos novedosos|\n",
      "|                   3|           juguetes|\n",
      "|                   4|               ropa|\n",
      "|                   5|           embalaje|\n",
      "+--------------------+-------------------+\n",
      "only showing top 5 rows\n",
      "\n"
     ]
    }
   ],
   "source": [
    "sql_categoria_proveedores = '''(SELECT CategoriaProveedorID, CategoriaProveedor AS Categoria FROM WWImportersTransactional.CategoriasProveedores) AS proveedores_categorias_Temp'''\n",
    "categoria_proveedores = obtener_dataframe_de_bd(source_db_connection_string, sql_categoria_proveedores, db_user, db_psswd)\n",
    "categoria_proveedores.show(5)"
   ]
  },
  {
   "cell_type": "markdown",
   "metadata": {},
   "source": [
    "#### Transformación\n",
    "* Unir tablas Proveedores y CategoriasProveedores\n",
    "* Modificar nombres estandar modelo\n",
    "* Todo número negativo en el campo Dias_pago se multiplica por -1 \n",
    "* agregar autonumérico para el DWH\n"
   ]
  },
  {
   "cell_type": "code",
   "execution_count": 7,
   "metadata": {},
   "outputs": [
    {
     "name": "stdout",
     "output_type": "stream",
     "text": [
      "+--------------------+--------------+--------------------+------------------+-------------+--------------------+---------+----------------+\n",
      "|CategoriaProveedorID|ID_Proveedor_T|              Nombre|Contacto_principal|Codigo_postal|           Categoria|Dias_pago|ID_Proveedor_DWH|\n",
      "+--------------------+--------------+--------------------+------------------+-------------+--------------------+---------+----------------+\n",
      "|                   2|             5|Graphic Design In...|                29|        64847| productos novedosos|       14|               1|\n",
      "|                   2|             9|      Nod Publishers|                37|        27906| productos novedosos|        7|               2|\n",
      "|                   2|            12|   The Phone Company|                43|        56732| productos novedosos|       30|               3|\n",
      "|                   2|             2|       Contoso, Ltd.|                23|        98253| productos novedosos|        7|               4|\n",
      "|                   2|             8|  Lucerne Publishing|                35|        37659| productos novedosos|       30|               5|\n",
      "|                   2|             1| A Datum Corporation|                21|        46077| productos novedosos|       14|               6|\n",
      "|                   3|            10|Northwind Electri...|                39|         7860|            juguetes|       30|               7|\n",
      "|                   4|             4|      Fabrikam, Inc.|                27|        40351|                ropa|       30|               8|\n",
      "|                   5|             7|       Litware, Inc.|                33|        95245|            embalaje|       30|               9|\n",
      "|                   6|             3|Consolidated Mess...|                25|        94101|servicios de mens...|       30|              10|\n",
      "|                   7|            13|      Woodgrove Bank|                45|        94101|servicios financi...|        7|              11|\n",
      "|                   8|            11|       Trey Research|                41|        57543|servicios de mark...|        7|              12|\n",
      "|                   9|             6| Humongous Insurance|                31|        37770|servicios de seguros|       14|              13|\n",
      "+--------------------+--------------+--------------------+------------------+-------------+--------------------+---------+----------------+\n",
      "\n"
     ]
    }
   ],
   "source": [
    "# TRANSFORMACION\n",
    "proveedores = proveedores.join(categoria_proveedores, how = 'inner', on = 'CategoriaProveedorID')\n",
    "proveedores = proveedores.withColumn(\"Dias_pago\", when(proveedores.Dias_pago_Temp < 0, proveedores.Dias_pago_Temp * -1).otherwise( proveedores.Dias_pago_Temp)).drop(\"Dias_pago_Temp\")\n",
    "proveedores = proveedores.withColumn('ID_Proveedor_DWH', f.monotonically_increasing_id() + 1)\n",
    "proveedores.show()"
   ]
  },
  {
   "cell_type": "markdown",
   "metadata": {},
   "source": [
    "#### Carga\n",
    "Una vez realizado esto, se guardan los resultados en la base de datos destino"
   ]
  },
  {
   "cell_type": "code",
   "execution_count": 10,
   "metadata": {},
   "outputs": [],
   "source": [
    "# CARGUE\n",
    "guardar_db(dest_db_connection_string, proveedores,'Estudiante_42.Proveedor', db_user, db_psswd)"
   ]
  },
  {
   "cell_type": "markdown",
   "metadata": {},
   "source": [
    "### TIPO TRANSACCION\n",
    "Empezamos con  la dimensión <i>TipoTransaccion</i>. Su fuente de dato es de la tabla transaccional <i>TipoTransaccion</i>"
   ]
  },
  {
   "cell_type": "markdown",
   "metadata": {},
   "source": [
    "#### Extracción"
   ]
  },
  {
   "cell_type": "code",
   "execution_count": 11,
   "metadata": {},
   "outputs": [
    {
     "name": "stdout",
     "output_type": "stream",
     "text": [
      "+---------------------+--------------------+\n",
      "|ID_Tipo_transaccion_T|                Tipo|\n",
      "+---------------------+--------------------+\n",
      "|                    2|Customer Credit Note|\n",
      "|                    3|Customer Payment ...|\n",
      "|                    4|     Customer Refund|\n",
      "|                    5|    Supplier Invoice|\n",
      "|                    6|Supplier Credit Note|\n",
      "+---------------------+--------------------+\n",
      "only showing top 5 rows\n",
      "\n"
     ]
    }
   ],
   "source": [
    "sql_tipo_transaccion = '''(SELECT TipoTransaccionID AS ID_Tipo_transaccion_T, TipoTransaccionNombre AS Tipo FROM WWImportersTransactional.TiposTransaccion) AS Tipo_transaccion_Temp'''\n",
    "tipo_transaccion = obtener_dataframe_de_bd(source_db_connection_string, sql_tipo_transaccion, db_user, db_psswd)\n",
    "tipo_transaccion.show(5)"
   ]
  },
  {
   "cell_type": "markdown",
   "metadata": {},
   "source": [
    "#### Transformación\n",
    "* Modificar nombres estandar modelo\n",
    "* Agregar autonumérico para el DWH"
   ]
  },
  {
   "cell_type": "code",
   "execution_count": 12,
   "metadata": {},
   "outputs": [
    {
     "name": "stdout",
     "output_type": "stream",
     "text": [
      "+---------------------+--------------------+-----------------------+\n",
      "|ID_Tipo_transaccion_T|                Tipo|ID_Tipo_transaccion_DWH|\n",
      "+---------------------+--------------------+-----------------------+\n",
      "|                    2|Customer Credit Note|                      1|\n",
      "|                    3|Customer Payment ...|                      2|\n",
      "|                    4|     Customer Refund|                      3|\n",
      "|                    5|    Supplier Invoice|                      4|\n",
      "|                    6|Supplier Credit Note|                      5|\n",
      "+---------------------+--------------------+-----------------------+\n",
      "only showing top 5 rows\n",
      "\n"
     ]
    }
   ],
   "source": [
    "# TRANSFORMACION\n",
    "tipo_transaccion = tipo_transaccion.withColumn('ID_Tipo_transaccion_DWH', f.monotonically_increasing_id() + 1)\n",
    "tipo_transaccion.show(5)"
   ]
  },
  {
   "cell_type": "markdown",
   "metadata": {},
   "source": [
    "#### Carga"
   ]
  },
  {
   "cell_type": "code",
   "execution_count": 13,
   "metadata": {},
   "outputs": [],
   "source": [
    "# CARGUE\n",
    "guardar_db(dest_db_connection_string, tipo_transaccion,'Estudiante_42.TipoTransaccion', db_user, db_psswd)"
   ]
  },
  {
   "cell_type": "markdown",
   "metadata": {},
   "source": [
    "### HECHO MOVIMIENTO\n",
    "Empezamos con  la tabla <i>Hecho_movimientos</i>. Su fuente de dato es de la tabla transaccional <i>movimientos</i>"
   ]
  },
  {
   "cell_type": "markdown",
   "metadata": {},
   "source": [
    "#### Extracción"
   ]
  },
  {
   "cell_type": "code",
   "execution_count": 14,
   "metadata": {},
   "outputs": [
    {
     "name": "stdout",
     "output_type": "stream",
     "text": [
      "+----------------+---------------------+-----------+------------+----------+--------+\n",
      "|ID_Transaccion_T|Fecha_movimiento_Temp|ID_producto|ID_Proveedor|ID_Cliente|Cantidad|\n",
      "+----------------+---------------------+-----------+------------+----------+--------+\n",
      "|           94344|          Jan 20,2014|        108|            |     185.0|   -10.0|\n",
      "|           96548|          Jan 28,2014|        162|            |     176.0|   -10.0|\n",
      "|           96560|          Jan 28,2014|        216|            |     474.0|   -10.0|\n",
      "|           96568|          Jan 28,2014|         22|            |     901.0|   -10.0|\n",
      "|           96648|          Jan 28,2014|         25|            |     926.0|   -10.0|\n",
      "+----------------+---------------------+-----------+------------+----------+--------+\n",
      "only showing top 5 rows\n",
      "\n"
     ]
    }
   ],
   "source": [
    "#EXTRACCION\n",
    "sql_hecho_movimiento = '''(SELECT StockItemTransactionID AS ID_Transaccion_T, TransactionOccurredWhen AS Fecha_movimiento_Temp, StockItemID AS ID_producto, SupplierID AS ID_Proveedor, CustomerID AS ID_Cliente, Quantity AS Cantidad\n",
    "FROM WWImportersTransactional.movimientos) AS Temp_Hecho_Movimiento'''\n",
    "hecho_movimiento = obtener_dataframe_de_bd(source_db_connection_string, sql_hecho_movimiento, db_user, db_psswd)\n",
    "hecho_movimiento.show(5)"
   ]
  },
  {
   "cell_type": "markdown",
   "metadata": {},
   "source": [
    "#### Transformación\n",
    "* Modificar nombres estandar modelo\n",
    "* Eliminar duplicados\n",
    "* Estandarizar fechas\n",
    "* Agregar autonumérico para el DWH"
   ]
  },
  {
   "cell_type": "code",
   "execution_count": 15,
   "metadata": {},
   "outputs": [
    {
     "name": "stdout",
     "output_type": "stream",
     "text": [
      "+----------------+---------------------+-----------+------------+----------+--------+\n",
      "|ID_Transaccion_T|Fecha_movimiento_Temp|ID_producto|ID_Proveedor|ID_Cliente|Cantidad|\n",
      "+----------------+---------------------+-----------+------------+----------+--------+\n",
      "|          280212|          Nov 18,2015|         45|            |      33.0|   -10.0|\n",
      "|          200365|          Feb 21,2015|         40|            |     577.0|   -10.0|\n",
      "|          129490|          Jun 03,2014|         17|            |     892.0|   -10.0|\n",
      "|          129677|          Jun 04,2014|         13|            |      92.0|   -10.0|\n",
      "|          265767|          Sep 29,2015|         11|            |     572.0|   -10.0|\n",
      "|          250434|          Aug 06,2015|         69|            |      11.0|   -10.0|\n",
      "|          307982|          Feb 25,2016|        214|            |     529.0|   -10.0|\n",
      "|          117255|          Apr 19,2014|         23|            |     429.0|   -10.0|\n",
      "|          221409|          May 01,2015|        162|            |    1009.0|   -10.0|\n",
      "|          314380|          Mar 21,2016|        108|            |     591.0|   -10.0|\n",
      "|          105990|          Mar 05,2014|          7|            |      42.0|   -10.0|\n",
      "|          106109|          Mar 05,2014|         60|            |     503.0|   -10.0|\n",
      "|          124778|          May 16,2014|          7|            |      93.0|   -10.0|\n",
      "|          145027|          Jul 25,2014|        176|            |     943.0|   -10.0|\n",
      "|          163505|          Oct 08,2014|        160|            |     583.0|   -10.0|\n",
      "|           99688|          Feb 08,2014|         65|            |     523.0|   -10.0|\n",
      "|          138940|          Jul 05,2014|        102|            |     544.0|   -10.0|\n",
      "|          140230|          Jul 10,2014|         51|            |     904.0|   -10.0|\n",
      "|          181558|          Dec 15,2014|         47|            |     861.0|   -10.0|\n",
      "|          191059|          Jan 19,2015|          8|            |     857.0|   -10.0|\n",
      "+----------------+---------------------+-----------+------------+----------+--------+\n",
      "only showing top 20 rows\n",
      "\n"
     ]
    }
   ],
   "source": [
    "hecho_movimiento = hecho_movimiento.dropDuplicates()\n",
    "hecho_movimiento.show()"
   ]
  },
  {
   "cell_type": "code",
   "execution_count": 16,
   "metadata": {},
   "outputs": [
    {
     "name": "stdout",
     "output_type": "stream",
     "text": [
      "+----------------+-----------+------------+----------+--------+----------------+\n",
      "|ID_Transaccion_T|ID_producto|ID_Proveedor|ID_Cliente|Cantidad|Fecha_movimiento|\n",
      "+----------------+-----------+------------+----------+--------+----------------+\n",
      "|          280212|         45|            |      33.0|   -10.0|      2015-11-18|\n",
      "|          200365|         40|            |     577.0|   -10.0|      2015-02-21|\n",
      "|          129490|         17|            |     892.0|   -10.0|      2014-06-03|\n",
      "|          129677|         13|            |      92.0|   -10.0|      2014-06-04|\n",
      "|          265767|         11|            |     572.0|   -10.0|      2015-09-29|\n",
      "+----------------+-----------+------------+----------+--------+----------------+\n",
      "only showing top 5 rows\n",
      "\n"
     ]
    }
   ],
   "source": [
    "regex = \"[0-2]\\d{3}-(0[1-9]|1[0-2])-(0[1-9]|[1-2][0-9]|3[0-1])\"\n",
    "hecho_movimiento = hecho_movimiento.withColumn(\"Fecha_movimiento\", when(~hecho_movimiento[\"Fecha_movimiento_Temp\"].rlike(regex),  to_date(from_unixtime(unix_timestamp(hecho_movimiento.Fecha_movimiento_Temp, \"MMM dd,yyyy\")))).otherwise( hecho_movimiento.Fecha_movimiento_Temp)).drop(\"Fecha_movimiento_Temp\")\n",
    "hecho_movimiento.show(5)"
   ]
  },
  {
   "cell_type": "code",
   "execution_count": 17,
   "metadata": {},
   "outputs": [
    {
     "name": "stdout",
     "output_type": "stream",
     "text": [
      "+----------------+-----------+------------+----------+--------+----------------+--------------------+\n",
      "|ID_Transaccion_T|ID_producto|ID_Proveedor|ID_Cliente|Cantidad|Fecha_movimiento|ID_Transaccion_T_DWH|\n",
      "+----------------+-----------+------------+----------+--------+----------------+--------------------+\n",
      "|          280212|         45|            |      33.0|   -10.0|      2015-11-18|                   1|\n",
      "|          200365|         40|            |     577.0|   -10.0|      2015-02-21|                   2|\n",
      "|          129490|         17|            |     892.0|   -10.0|      2014-06-03|                   3|\n",
      "|          129677|         13|            |      92.0|   -10.0|      2014-06-04|                   4|\n",
      "|          265767|         11|            |     572.0|   -10.0|      2015-09-29|                   5|\n",
      "+----------------+-----------+------------+----------+--------+----------------+--------------------+\n",
      "only showing top 5 rows\n",
      "\n"
     ]
    }
   ],
   "source": [
    "hecho_movimiento = hecho_movimiento.withColumn('ID_Transaccion_T_DWH', f.monotonically_increasing_id() + 1)\n",
    "hecho_movimiento.show(5)"
   ]
  },
  {
   "cell_type": "markdown",
   "metadata": {},
   "source": [
    "#### Carga"
   ]
  },
  {
   "cell_type": "code",
   "execution_count": 18,
   "metadata": {},
   "outputs": [],
   "source": [
    "# CARGUE\n",
    "guardar_db(dest_db_connection_string, hecho_movimiento,'Estudiante_42.Hecho_movimiento', db_user, db_psswd)"
   ]
  },
  {
   "cell_type": "markdown",
   "metadata": {},
   "source": [
    "## VERIFICACIONES"
   ]
  },
  {
   "cell_type": "markdown",
   "metadata": {},
   "source": [
    "* Los días de pago no pueden ser negativos no tiene sentido para nuestro negocio. Por favor corregir multiplicando los datos negativos por -1."
   ]
  },
  {
   "cell_type": "code",
   "execution_count": 27,
   "metadata": {},
   "outputs": [
    {
     "data": {
      "text/plain": [
       "0"
      ]
     },
     "execution_count": 27,
     "metadata": {},
     "output_type": "execute_result"
    }
   ],
   "source": [
    "proveedores.filter(proveedores[\"Dias_pago\"] < 0 ).count()"
   ]
  },
  {
   "cell_type": "markdown",
   "metadata": {},
   "source": [
    "* Sobre “La cantidad máxima de productos movidos es 50 millones por viaje”, encontramos que efectivamente gracias a los avances ya podemos cargar más que la cantidad de 50 millones por viajes."
   ]
  },
  {
   "cell_type": "markdown",
   "metadata": {},
   "source": [
    "No se ha aclarado que es un viaje y como se representa"
   ]
  },
  {
   "cell_type": "markdown",
   "metadata": {},
   "source": [
    "* La falta de datos antes del 2014 es un error de extracción de datos. Los nuevos datos incluyen este año."
   ]
  },
  {
   "cell_type": "code",
   "execution_count": 24,
   "metadata": {},
   "outputs": [
    {
     "name": "stdout",
     "output_type": "stream",
     "text": [
      "+----+\n",
      "|year|\n",
      "+----+\n",
      "|2015|\n",
      "|2013|\n",
      "|2014|\n",
      "|2016|\n",
      "+----+\n",
      "\n"
     ]
    }
   ],
   "source": [
    "hecho_movimiento.select(year('Fecha_movimiento').alias('year')).distinct().show()"
   ]
  },
  {
   "cell_type": "markdown",
   "metadata": {},
   "source": [
    "* Nuestro análisis concluye que la información que se ha duplicado totalmente no es útil. Por favor no tenerlos en cuenta."
   ]
  },
  {
   "cell_type": "code",
   "execution_count": 26,
   "metadata": {},
   "outputs": [
    {
     "data": {
      "text/plain": [
       "True"
      ]
     },
     "execution_count": 26,
     "metadata": {},
     "output_type": "execute_result"
    }
   ],
   "source": [
    "hecho_movimiento.count() ==  hecho_movimiento.distinct().count()"
   ]
  },
  {
   "cell_type": "markdown",
   "metadata": {},
   "source": [
    "* El formato de fechas manejado es YYYY-MM-DD HH:MM:SS si tienen hora, minutos y segundos. De lo contrario el formato es YYYY-MM-DD”: En cuanto a formatos de fechas estamos de acuerdo con que los estandarizemos y el formato sea el especificado en la regla de negocio"
   ]
  },
  {
   "cell_type": "code",
   "execution_count": 28,
   "metadata": {},
   "outputs": [
    {
     "data": {
      "text/plain": [
       "0"
      ]
     },
     "execution_count": 28,
     "metadata": {},
     "output_type": "execute_result"
    }
   ],
   "source": [
    "regex = \"[0-2]\\d{3}-(0[1-9]|1[0-2])-(0[1-9]|[1-2][0-9]|3[0-1])\"\n",
    "hecho_movimiento.filter(~hecho_movimiento[\"Fecha_movimiento\"].rlike(regex)).count()"
   ]
  },
  {
   "cell_type": "markdown",
   "metadata": {},
   "source": [
    "* Existen proveedores que tienen 2 filas una con un nombre y otra con el mismo nombre mas un “Inc” o “Ltd”. Unimos estos a un solo proveedor dado que se trató de un error de digitación."
   ]
  },
  {
   "cell_type": "code",
   "execution_count": 30,
   "metadata": {},
   "outputs": [
    {
     "name": "stdout",
     "output_type": "stream",
     "text": [
      "+--------------------+\n",
      "|              Nombre|\n",
      "+--------------------+\n",
      "|Graphic Design In...|\n",
      "|      Nod Publishers|\n",
      "|   The Phone Company|\n",
      "|       Contoso, Ltd.|\n",
      "|  Lucerne Publishing|\n",
      "| A Datum Corporation|\n",
      "|Northwind Electri...|\n",
      "|      Fabrikam, Inc.|\n",
      "|       Litware, Inc.|\n",
      "|Consolidated Mess...|\n",
      "|      Woodgrove Bank|\n",
      "|       Trey Research|\n",
      "| Humongous Insurance|\n",
      "+--------------------+\n",
      "\n"
     ]
    }
   ],
   "source": [
    "proveedores.select(\"Nombre\").show()"
   ]
  },
  {
   "cell_type": "markdown",
   "metadata": {},
   "source": [
    "* El código postal igual para todos nuestros proveedores es un error que también fue corregido."
   ]
  },
  {
   "cell_type": "code",
   "execution_count": 33,
   "metadata": {},
   "outputs": [
    {
     "name": "stdout",
     "output_type": "stream",
     "text": [
      "+-------------+\n",
      "|Codigo_postal|\n",
      "+-------------+\n",
      "|        64847|\n",
      "|        27906|\n",
      "|        56732|\n",
      "|        98253|\n",
      "|        37659|\n",
      "|        46077|\n",
      "|         7860|\n",
      "|        40351|\n",
      "|        95245|\n",
      "|        94101|\n",
      "|        94101|\n",
      "|        57543|\n",
      "|        37770|\n",
      "+-------------+\n",
      "\n"
     ]
    }
   ],
   "source": [
    "proveedores.select(\"Codigo_postal\").show()"
   ]
  },
  {
   "cell_type": "markdown",
   "metadata": {},
   "source": [
    "* Cantidades negativas significan salidas de productos del inventario"
   ]
  },
  {
   "cell_type": "code",
   "execution_count": 34,
   "metadata": {},
   "outputs": [
    {
     "name": "stdout",
     "output_type": "stream",
     "text": [
      "+-------+------------------+\n",
      "|summary|          Cantidad|\n",
      "+-------+------------------+\n",
      "|  count|            236667|\n",
      "|   mean| 551.2711108857593|\n",
      "| stddev|4080.6268075975277|\n",
      "|    min|            -360.0|\n",
      "|    max|           67368.0|\n",
      "+-------+------------------+\n",
      "\n"
     ]
    }
   ],
   "source": [
    "hecho_movimiento.select('Cantidad').describe().show()"
   ]
  }
 ],
 "metadata": {
  "kernelspec": {
   "display_name": "Python 3 (ipykernel)",
   "language": "python",
   "name": "python3"
  },
  "language_info": {
   "codemirror_mode": {
    "name": "ipython",
    "version": 3
   },
   "file_extension": ".py",
   "mimetype": "text/x-python",
   "name": "python",
   "nbconvert_exporter": "python",
   "pygments_lexer": "ipython3",
   "version": "3.7.13"
  }
 },
 "nbformat": 4,
 "nbformat_minor": 4
}
